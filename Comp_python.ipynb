{
 "metadata": {
  "language_info": {
   "codemirror_mode": {
    "name": "ipython",
    "version": 3
   },
   "file_extension": ".py",
   "mimetype": "text/x-python",
   "name": "python",
   "nbconvert_exporter": "python",
   "pygments_lexer": "ipython3",
   "version": "3.7.3-final"
  },
  "orig_nbformat": 2,
  "kernelspec": {
   "name": "python3",
   "display_name": "Python 3"
  }
 },
 "nbformat": 4,
 "nbformat_minor": 2,
 "cells": [
  {
   "source": [
    "# Computational_Python 2020\n",
    "#Name: Roberto Heredia Fonseca"
   ],
   "cell_type": "code",
   "metadata": {},
   "execution_count": null,
   "outputs": []
  },
  {
   "source": [
    "# Reading and plotting demand 2018"
   ],
   "cell_type": "code",
   "metadata": {},
   "execution_count": null,
   "outputs": []
  },
  {
   "cell_type": "code",
   "execution_count": null,
   "metadata": {},
   "outputs": [],
   "source": [
    "import pandas as pd\n",
    "import matplotlib.pyplot as plt\n",
    "import matplotlib.dates as mdates\n",
    "import numpy as np\n",
    "import plotly.express as px\n",
    "import plotly.graph_objects as go\n",
    "\n",
    "\n",
    "#change cm to inch for figure size\n",
    "\n",
    "def cm2inch(*tupl):\n",
    "    inch = 2.54\n",
    "    if isinstance(tupl[0], tuple):\n",
    "        return tuple(i/inch for i in tupl[0])\n",
    "    else:\n",
    "        return tuple(i/inch for i in tupl)\n",
    "\n",
    "#Change font siz\n",
    "SMALL_SIZE = 8\n",
    "MEDIUM_SIZE = 10\n",
    "BIGGER_SIZE = 12\n",
    "\n",
    "plt.rc('font', size=SMALL_SIZE)          # controls default text sizes\n",
    "plt.rc('axes', titlesize=SMALL_SIZE)     # fontsize of the axes title\n",
    "plt.rc('axes', labelsize=10)    # fontsize of the x and y labels\n",
    "plt.rc('xtick', labelsize=SMALL_SIZE)    # fontsize of the tick labels\n",
    "plt.rc('ytick', labelsize=SMALL_SIZE)    # fontsize of the tick labels\n",
    "plt.rc('legend', fontsize= 6)            # legend fontsize\n",
    "plt.rc('figure', titlesize=BIGGER_SIZE)  # fontsize of the figure title"
   ]
  },
  {
   "cell_type": "code",
   "execution_count": null,
   "metadata": {},
   "outputs": [],
   "source": [
    "#reading de excel file\n",
    "#pass a dictionary with columns of day and time since there are three days missing in the data. Or it is possible to create a date_range with a space of freq of 30T (30min)\n",
    "\n",
    "df=pd.read_excel('Informacion Demanda horaria 2018.xlsx', parse_dates={'date':['Fecha', 'Hora']})\n",
    "#df.head(5)\n",
    "\n",
    "df.rename(columns ={'Hidraulica [MW]': 'Hydropower', 'Renovable [MW]': 'Non-hydro res', 'Termica [MW]': 'Thermal'}, inplace=True) \n",
    "#df.info()"
   ]
  },
  {
   "cell_type": "code",
   "execution_count": null,
   "metadata": {},
   "outputs": [],
   "source": [
    "df['day'] = df['date'].dt.weekday_name\n",
    "\n",
    "df['month'] = df['date'].dt.month_name()\n",
    "\n",
    "df['time'] = df['date'].dt.time\n",
    "df.head(5)"
   ]
  },
  {
   "cell_type": "code",
   "execution_count": null,
   "metadata": {},
   "outputs": [],
   "source": [
    "plt.plot('date', 'Total [MW]', data=df, linestyle='solid', linewidth=.25)\n",
    "plt.ylabel('Demand [MW]')\n",
    "plt.savefig('Demand_total.png', dpi=300, bbox_inches='tight', figsize=cm2inch((7.5, 10)))\n",
    "plt.show()"
   ]
  },
  {
   "source": [
    "#Plot demand by three main tech"
   ],
   "cell_type": "markdown",
   "metadata": {}
  },
  {
   "cell_type": "code",
   "execution_count": null,
   "metadata": {},
   "outputs": [],
   "source": [
    "fig, (ax1, ax2, ax3) = plt.subplots(nrows=3, figsize=cm2inch((7.5, 10)))\n",
    "#fig.suptitle(\"Energy demand 2018\")\n",
    "\n",
    "ax1.plot('date','Hydropower', data=df, linestyle='none',marker='.',markersize=1, color='#16365C')\n",
    "ax1.grid(b=bool)\n",
    "ax1.minorticks_on()\n",
    "\n",
    "ax2.plot('date','Non-hydro res', data=df, linestyle='none',marker='.',markersize=1, color=\"green\")\n",
    "ax2.grid(b=bool)\n",
    "ax2.minorticks_on()\n",
    "\n",
    "ax3.plot('date','Thermal', data=df, linestyle='none',marker='.',markersize=1, color='#B7423F')\n",
    "ax3.grid(b=bool)\n",
    "ax3.minorticks_on()\n",
    "\n",
    "ax2.set_ylabel(\"Demand [MW]\")\n",
    "\n",
    "# Define the date format\n",
    "myFmt = mdates.DateFormatter('%b')\n",
    "ax1.xaxis.set_major_formatter(myFmt)\n",
    "ax2.xaxis.set_major_formatter(myFmt)\n",
    "ax3.xaxis.set_major_formatter(myFmt)\n",
    "\n",
    "#adjust distance between subplots\n",
    "plt.subplots_adjust(top=1, hspace=0.4)\n",
    "\n",
    "#legend\n",
    "plt.figlegend(loc='upper right', bbox_to_anchor=(0.6, 0.62))\n",
    "plt.rcParams.update({'legend.labelspacing':0.15})\n",
    "\n",
    "plt.savefig('Ec demand 2018.png',dpi=300, bbox_inches='tight')\n",
    "#plt.show()"
   ]
  },
  {
   "source": [
    "#Plot demand by threee timestamps"
   ],
   "cell_type": "markdown",
   "metadata": {}
  },
  {
   "cell_type": "code",
   "execution_count": null,
   "metadata": {},
   "outputs": [],
   "source": [
    "# possible to use resample or groupby\n",
    "# resample() groups rows by some time or date information,\n",
    "# .groupby() groups rows based on the values in one or more columns.\n",
    "\n",
    "monthly = pd.DataFrame(df.resample('M', on='date')['Total [MW]'].mean())\n",
    "x = monthly.index\n",
    "y = monthly['Total [MW]'] \n",
    "\n",
    "hour = pd.DataFrame(df.groupby(df['date'].dt.hour)['Total [MW]'].mean())\n",
    "x1 = hour.index\n",
    "y1 = hour['Total [MW]'] \n",
    "\n",
    "day = pd.DataFrame(df.groupby(df['date'].dt.weekday)['Total [MW]'].mean())\n",
    "#he day of the week with Monday=0, Sunday=6.\n",
    "x2 = day.index\n",
    "y2 = day['Total [MW]'] "
   ]
  },
  {
   "cell_type": "code",
   "execution_count": null,
   "metadata": {},
   "outputs": [],
   "source": [
    "fig_ts,(ax1_m, ax2_d, ax3_h) = plt.subplots(nrows=3, figsize= cm2inch((7.5,10)))\n",
    "#fig_ts.suptitle(\"Average energy demand 2018\")\n",
    "\n",
    "ax1_m.plot(x,y, linestyle='solid',marker='.',markersize=5, color='#16365C')\n",
    "ax1_m.grid(b=bool)\n",
    "#ax1_m.minorticks_on()\n",
    "\n",
    "ax1_m.xaxis_date()\n",
    "myFmt = mdates.DateFormatter('%b')\n",
    "ax1_m.xaxis.set_major_formatter(myFmt)\n",
    "\n",
    "ax2_d.plot(x2,y2, linestyle='solid',marker='.',markersize=5, color=\"green\")\n",
    "ax2_d.grid(b=bool)\n",
    "ax2_d.minorticks_on()\n",
    "\n",
    "ax3_h.plot(x1,y1, linestyle='solid',marker='.',markersize=5, color='#B7423F')\n",
    "ax3_h.grid(b=bool)\n",
    "ax3_h.minorticks_on()\n",
    "\n",
    "ax2_d.set_ylabel(\"Average demand [MW)\")\n",
    "\n",
    "\n",
    "#adjust distance between subplots\n",
    "plt.subplots_adjust(top=1, hspace=0.4)\n",
    "\n",
    "#legend\n",
    "fig_ts.legend([ax1_m, ax2_d, ax3_h],\n",
    "           labels= [\"Month\", \"DoW\", \"time\"],      # The line objects\n",
    "           borderaxespad=0.1,                    # Small spacing around legend box\n",
    "           loc=(0.26, 0.46)\n",
    "           )\n",
    "#plt.savefig('ts.pdf',dpi=300)\n",
    "plt.savefig('ts.png',dpi=400,  bbox_inches='tight')\n",
    "plt.show()"
   ]
  },
  {
   "source": [
    "#Joinning all data frames by columns"
   ],
   "cell_type": "markdown",
   "metadata": {}
  },
  {
   "cell_type": "code",
   "execution_count": null,
   "metadata": {},
   "outputs": [],
   "source": [
    "df_h = df[['date','Hydropower', 'day', 'time', 'month']].rename(columns={'Hydropower':'Demand'})\n",
    "df_h['Tech']= 'Hydropower'\n",
    "#df_h\n",
    "\n",
    "df_t = df[['date','Thermal', 'day', 'time','month']].rename(columns={'Thermal':'Demand'})\n",
    "df_t['Tech']= 'Thermal'\n",
    "#df_t\n",
    "\n",
    "df_n = df[['date','Non-hydro res', 'day', 'time','month']].rename(columns={'Non-hydro res':'Demand'})\n",
    "df_n['Tech']= 'Non-hydro res'\n",
    "#df_n"
   ]
  },
  {
   "cell_type": "code",
   "execution_count": null,
   "metadata": {},
   "outputs": [],
   "source": [
    "df1 = pd.concat([df_h, df_t,df_n], axis=0, ignore_index='True')\n",
    "df1.head(5)"
   ]
  },
  {
   "cell_type": "code",
   "execution_count": null,
   "metadata": {},
   "outputs": [],
   "source": [
    "#change x to day, month or time\n",
    "f2 =px.box(df1, x=\"day\", y='Demand', facet_row='Tech', color='Tech')\n",
    "f2.update_yaxes(matches=None)\n",
    "f2.update_layout()\n",
    "f2.show()\n",
    "#f2.write_html(\"rh_demand_day.html\")"
   ]
  },
  {
   "source": [
    "# Reading data (more than 300K data points)\n",
    "# Capacity factors (cf) calculation\n"
   ],
   "cell_type": "markdown",
   "metadata": {}
  },
  {
   "cell_type": "code",
   "execution_count": null,
   "metadata": {},
   "outputs": [],
   "source": [
    "# Read generation by year\n",
    "# change the year #\n",
    "df = pd.read_excel('EC generation 2018.xlsx',sheet_name='rpConsolidadoEnergiaProducida',skiprows=0,skipfooter=0,usecols='A,G,M,N')\n",
    "\n",
    "# Read the list of power plants and capacity [MW]\n",
    "df_pp = pd.read_excel('Power plants.xlsx') \n",
    "df_pp = df_pp.to_numpy()\n",
    "\n",
    "#data frame for capacity factors\n",
    "df_cf = pd.DataFrame(np.zeros((0,0)))\n",
    "data = np.zeros((12,1))\n",
    "\n",
    "# array 'days' contains every month and #days\n",
    "days = np.array([['Ene',31],['Feb',28], ['Mar',31],['Abr',30],['May',31],['Jun',30],['Jul',31],['Ago',31],['Sep',30],['Oct',31],['Nov',30],['Dic',31]])"
   ]
  },
  {
   "cell_type": "code",
   "execution_count": null,
   "metadata": {},
   "outputs": [],
   "source": [
    "# defining a function that first filter by power plant, system\n",
    "# then, it will calculate the capacity factor by each month of the year\n",
    "def c_f(power_plant,capacity):\n",
    "    df1 = df.loc[(df['Central'] == power_plant) & (df['Sistema'] == 'S.N.I')].drop(columns=['Sistema'])\n",
    "    for i in range(1, len(days)):\n",
    "        data[i-1,0] = df1.loc[df['Mes'] == days[i-1,0]].sum(axis = 0, skipna = True)[2]  # finding sum over \n",
    "   \n",
    "    #converting the array to a data frame\n",
    "    a = pd.DataFrame(data)\n",
    "    a = a.rename(columns={0:\"Me\"}) # Me montly energy\n",
    "\n",
    "    # Declare a list that is to be converted into a column \n",
    "    d = [31,28,31,30,31,30,31,31,30,31,30,31] \n",
    "    a['d'] = d \n",
    "\n",
    "    ###calculating the cf\n",
    "    a[power_plant] = (a['Me']/(a['d']*capacity*24)).round(3)\n",
    "\n",
    "    ###Asigning the cf to cf matrix\n",
    "    df_cf[power_plant] = a[power_plant]"
   ]
  },
  {
   "cell_type": "code",
   "execution_count": null,
   "metadata": {},
   "outputs": [],
   "source": [
    "# for loop to read every hydropower plant and its capacity from df_pp \n",
    "for i in range(1,len(df_pp)):\n",
    "    pp = df_pp[i-1,0]\n",
    "    cp = df_pp[i-1,1]\n",
    "    c_f(pp,cp)\n",
    "\n",
    "df_cf.head(5)"
   ]
  },
  {
   "cell_type": "code",
   "execution_count": null,
   "metadata": {},
   "outputs": [],
   "source": [
    "#print csv\n",
    "df_cf.to_csv('c_factors_2018.csv')"
   ]
  },
  {
   "source": [
    "# Results visualization"
   ],
   "cell_type": "markdown",
   "metadata": {}
  },
  {
   "cell_type": "code",
   "execution_count": null,
   "metadata": {},
   "outputs": [],
   "source": [
    "# read results of the optimization\n",
    "PbT = pd.read_csv('ProductionByTechnology.csv')\n",
    "PbT.head(5)\n",
    "#PbT.info()"
   ]
  },
  {
   "cell_type": "code",
   "execution_count": null,
   "metadata": {},
   "outputs": [],
   "source": [
    "# read the data frame to filter PbT\n",
    "tech = pd.read_excel('Tech.xlsx')\n",
    "tech.head(5)\n",
    "\n",
    "#define the color by tech\n",
    "t_colors = dict(zip(tech['t_color'].dropna(), tech['hex'].dropna()))"
   ]
  },
  {
   "cell_type": "code",
   "execution_count": null,
   "metadata": {},
   "outputs": [],
   "source": [
    "# filtered data frame\n",
    "PbT_f = PbT[PbT['f'].isin(tech['fuels'].dropna()) & PbT['t'].isin(tech['t']) & PbT['ProductionByTechnology']>0]\n",
    "PbT_f = PbT_f.reset_index(drop=True)\n",
    "PbT_f.head(5)"
   ]
  },
  {
   "cell_type": "code",
   "execution_count": null,
   "metadata": {},
   "outputs": [],
   "source": [
    "# function to changes the code names of the generation technologies to easy names\n",
    "def tech_names(x):\n",
    "    t = x['t'].to_numpy()\n",
    "    tech_t = tech['t'].to_numpy()\n",
    "    tech_t_n = tech['t_names'].to_numpy()\n",
    "\n",
    "    l = len(x)\n",
    "    l_n = len(tech_t)\n",
    "\n",
    "    for j in range(0,l):\n",
    "        for i in range(0,l_n):\n",
    "            if t[j] == tech_t[i]:\n",
    "                t[j] = tech_t_n[i]\n",
    "    \n",
    "    x = x.append(pd.DataFrame(t, columns=['t'])) "
   ]
  },
  {
   "cell_type": "code",
   "execution_count": null,
   "metadata": {},
   "outputs": [],
   "source": [
    "# calling the function to change names in a data frame.\n",
    "tech_names(PbT_f)\n",
    "PbT_f.head(5)"
   ]
  },
  {
   "cell_type": "code",
   "execution_count": null,
   "metadata": {},
   "outputs": [],
   "source": [
    "#groupby technology and year\n",
    "#This is a important step to use plotly otherwise it will plot every single bar\n",
    "\n",
    "PbT_f = PbT_f.groupby(['t', 'y'])['ProductionByTechnology'].sum().reset_index()\n",
    "PbT_f.head(5)"
   ]
  },
  {
   "cell_type": "code",
   "execution_count": null,
   "metadata": {},
   "outputs": [],
   "source": [
    "fig_PbT = px.bar(PbT_f, x='y', y='ProductionByTechnology', color='t', barmode='relative',\n",
    "opacity=1, color_discrete_map=t_colors)\n",
    "\n",
    "fig_PbT.update_layout(title_text=\"Generation by Technology\",\n",
    " xaxis=dict(title_text='year'),\n",
    " yaxis=dict(title_text='Generation [PJ]'),\n",
    " plot_bgcolor='rgb(255,255,255)',\n",
    " font_size=10) \n",
    "\n",
    "#fig_PbT.write_image('Generation_be_tech.jpg', width= 600, height= 600)\n",
    "\n",
    "fig_PbT.show()\n",
    "#fig_PbT.write_html(\"ProductionByTech.html\")"
   ]
  },
  {
   "cell_type": "code",
   "execution_count": null,
   "metadata": {},
   "outputs": [],
   "source": []
  }
 ]
}